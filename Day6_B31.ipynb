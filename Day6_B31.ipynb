{
 "cells": [
  {
   "cell_type": "code",
   "execution_count": null,
   "metadata": {},
   "outputs": [],
   "source": [
    "Introduction to looping statements"
   ]
  },
  {
   "cell_type": "code",
   "execution_count": 10,
   "metadata": {},
   "outputs": [],
   "source": [
    "bikes=['ducati','aprilia','bajaj','triumph']"
   ]
  },
  {
   "cell_type": "code",
   "execution_count": 11,
   "metadata": {},
   "outputs": [
    {
     "name": "stdout",
     "output_type": "stream",
     "text": [
      "['ducati', 'aprilia', 'bajaj', 'triumph']\n"
     ]
    }
   ],
   "source": [
    "print(bikes)"
   ]
  },
  {
   "cell_type": "code",
   "execution_count": 12,
   "metadata": {},
   "outputs": [
    {
     "name": "stdout",
     "output_type": "stream",
     "text": [
      "I want to test drive, Ducati\n"
     ]
    }
   ],
   "source": [
    "print(f\"I want to test drive, {bikes[0].title()}\")"
   ]
  },
  {
   "cell_type": "code",
   "execution_count": null,
   "metadata": {},
   "outputs": [],
   "source": [
    "Requirement: I want to send message that \"I want to test drive every bike in the list\""
   ]
  },
  {
   "cell_type": "code",
   "execution_count": null,
   "metadata": {},
   "outputs": [],
   "source": [
    "General Syntax of a for loop:\n",
    "for tempvariable in mainvariable:\n",
    "    print(tempvariable) #gap here is called indentation"
   ]
  },
  {
   "cell_type": "code",
   "execution_count": 13,
   "metadata": {},
   "outputs": [
    {
     "name": "stdout",
     "output_type": "stream",
     "text": [
      "I want to test drive, Ducati\n",
      "I want to test drive, Aprilia\n",
      "I want to test drive, Bajaj\n",
      "I want to test drive, Triumph\n"
     ]
    }
   ],
   "source": [
    "for x in bikes:\n",
    "    print(f\"I want to test drive, {x.title()}\")"
   ]
  },
  {
   "cell_type": "code",
   "execution_count": null,
   "metadata": {},
   "outputs": [],
   "source": [
    "#if indentation is not given then for loop will give error"
   ]
  },
  {
   "cell_type": "code",
   "execution_count": 14,
   "metadata": {},
   "outputs": [
    {
     "ename": "IndentationError",
     "evalue": "expected an indented block (<ipython-input-14-c7cb6988d79a>, line 2)",
     "output_type": "error",
     "traceback": [
      "\u001b[1;36m  File \u001b[1;32m\"<ipython-input-14-c7cb6988d79a>\"\u001b[1;36m, line \u001b[1;32m2\u001b[0m\n\u001b[1;33m    print(f\"I want to test drive, {x.title()}\") #if indentation is not give for loop will give error\u001b[0m\n\u001b[1;37m    ^\u001b[0m\n\u001b[1;31mIndentationError\u001b[0m\u001b[1;31m:\u001b[0m expected an indented block\n"
     ]
    }
   ],
   "source": [
    "for x in bikes:\n",
    "print(f\"I want to test drive, {x.title()}\")"
   ]
  },
  {
   "cell_type": "code",
   "execution_count": 16,
   "metadata": {},
   "outputs": [
    {
     "name": "stdout",
     "output_type": "stream",
     "text": [
      "I want to test drive, Ducati\n",
      "I want to test drive, Aprilia\n",
      "I want to test drive, Bajaj\n",
      "I want to test drive, Triumph\n",
      "There is no indentation so this argument is, out of the loop\n"
     ]
    }
   ],
   "source": [
    "for x in bikes:\n",
    "    print(f\"I want to test drive, {x.title()}\")\n",
    "print(\"There is no indentation so this argument is, out of the loop\")"
   ]
  },
  {
   "cell_type": "code",
   "execution_count": null,
   "metadata": {},
   "outputs": [],
   "source": [
    "#further enhancement"
   ]
  },
  {
   "cell_type": "code",
   "execution_count": 17,
   "metadata": {},
   "outputs": [
    {
     "name": "stdout",
     "output_type": "stream",
     "text": [
      "I want to test drive, Ducati.\n",
      "\n",
      "I want to test drive, Aprilia.\n",
      "\n",
      "I want to test drive, Bajaj.\n",
      "\n",
      "I want to test drive, Triumph.\n",
      "\n",
      "There is no indentation so this argument is, out of the loop\n"
     ]
    }
   ],
   "source": [
    "for x in bikes:\n",
    "    print(f\"I want to test drive, {x.title()}.\\n\")  #in different lines\n",
    "print(\"There is no indentation so this argument is, out of the loop\")"
   ]
  },
  {
   "cell_type": "code",
   "execution_count": 32,
   "metadata": {},
   "outputs": [
    {
     "name": "stdout",
     "output_type": "stream",
     "text": [
      "\tI want to test drive, Ducati.\n",
      "\n",
      "\tI want to test drive, Aprilia.\n",
      "\n",
      "\tI want to test drive, Bajaj.\n",
      "\n",
      "\tI want to test drive, Triumph.\n",
      "\n",
      "There is no indentation so this argument is, out of the loop\n"
     ]
    }
   ],
   "source": [
    "for x in bikes:\n",
    "    print(f\"\\tI want to test drive, {x.title()}.\\n\")  #in different lines with tab delimiter\n",
    "print(\"There is no indentation so this argument is, out of the loop\")"
   ]
  },
  {
   "cell_type": "code",
   "execution_count": null,
   "metadata": {},
   "outputs": [],
   "source": [
    "Organinsing the list"
   ]
  },
  {
   "cell_type": "code",
   "execution_count": 33,
   "metadata": {},
   "outputs": [],
   "source": [
    "brands=['bmw','kia','audi','honda','suzuki']"
   ]
  },
  {
   "cell_type": "code",
   "execution_count": null,
   "metadata": {},
   "outputs": [],
   "source": [
    "Requirement is to know the number of elements in the list"
   ]
  },
  {
   "cell_type": "code",
   "execution_count": 34,
   "metadata": {},
   "outputs": [
    {
     "data": {
      "text/plain": [
       "5"
      ]
     },
     "execution_count": 34,
     "metadata": {},
     "output_type": "execute_result"
    }
   ],
   "source": [
    "len(brands) #len function will give number os elements in the list"
   ]
  },
  {
   "cell_type": "code",
   "execution_count": null,
   "metadata": {},
   "outputs": [],
   "source": []
  }
 ],
 "metadata": {
  "kernelspec": {
   "display_name": "Python 3",
   "language": "python",
   "name": "python3"
  },
  "language_info": {
   "codemirror_mode": {
    "name": "ipython",
    "version": 3
   },
   "file_extension": ".py",
   "mimetype": "text/x-python",
   "name": "python",
   "nbconvert_exporter": "python",
   "pygments_lexer": "ipython3",
   "version": "3.8.5"
  }
 },
 "nbformat": 4,
 "nbformat_minor": 4
}
