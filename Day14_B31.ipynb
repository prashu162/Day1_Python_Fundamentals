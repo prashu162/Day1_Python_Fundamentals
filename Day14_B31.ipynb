{
 "cells": [
  {
   "cell_type": "code",
   "execution_count": null,
   "metadata": {},
   "outputs": [],
   "source": [
    "Introduction to constructor\n",
    "Constructor is called as special method or a magical method\n",
    "Initializing the methods automatically"
   ]
  },
  {
   "cell_type": "code",
   "execution_count": null,
   "metadata": {},
   "outputs": [],
   "source": [
    "def __int__ #double underscores"
   ]
  },
  {
   "cell_type": "code",
   "execution_count": null,
   "metadata": {},
   "outputs": [],
   "source": [
    "Requirement: Create a dog class and declare the following methods for it\n",
    "1. init method\n",
    "2. jump method\n",
    "3. rollingover\n",
    "4. sleep\n",
    "5. details"
   ]
  },
  {
   "cell_type": "code",
   "execution_count": 20,
   "metadata": {},
   "outputs": [],
   "source": [
    "class Dog():\n",
    "    \"\"\"creating the dog class\"\"\"\n",
    "    def __init__(self,name,age): #constructor method\n",
    "        self.name=name\n",
    "        self.age=age\n",
    "    def jump(self):\n",
    "        print(f\"{self.name} is now jumping\")\n",
    "    def rollingover(self):\n",
    "        print(f\"{self.name} is now rollingover\")\n",
    "    def sleep(self):\n",
    "        print(f\"{self.name} is now sleeping\")\n",
    "    def details(self):\n",
    "        print(f\"{self.name} is the name of the dog\")\n",
    "        print(f\"{self.name} is {self.age} years old\")"
   ]
  },
  {
   "cell_type": "code",
   "execution_count": 21,
   "metadata": {},
   "outputs": [],
   "source": [
    "xobj=Dog('Scooby',2)"
   ]
  },
  {
   "cell_type": "code",
   "execution_count": 22,
   "metadata": {},
   "outputs": [
    {
     "name": "stdout",
     "output_type": "stream",
     "text": [
      "Scooby is now jumping\n",
      "Scooby is now rollingover\n",
      "Scooby is now sleeping\n",
      "Scooby is the name of the dog\n",
      "Scooby is 2 years old\n"
     ]
    }
   ],
   "source": [
    "xobj.jump()\n",
    "xobj.rollingover()\n",
    "xobj.sleep()\n",
    "xobj.details()"
   ]
  },
  {
   "cell_type": "code",
   "execution_count": null,
   "metadata": {},
   "outputs": [],
   "source": [
    "File handling in Python\n",
    "1. How to read files in python\n",
    "2. How to write files in python\n",
    "3. How to append files in python"
   ]
  },
  {
   "cell_type": "code",
   "execution_count": null,
   "metadata": {},
   "outputs": [],
   "source": [
    "1. How to read files in python"
   ]
  },
  {
   "cell_type": "code",
   "execution_count": 25,
   "metadata": {},
   "outputs": [
    {
     "name": "stdout",
     "output_type": "stream",
     "text": [
      "Python is the most demanding programming language.\n"
     ]
    }
   ],
   "source": [
    "with open('file_handling_test.txt') as file_obj:\n",
    "    contents=file_obj.read()\n",
    "    print(contents)"
   ]
  },
  {
   "cell_type": "code",
   "execution_count": null,
   "metadata": {},
   "outputs": [],
   "source": [
    "#another approach"
   ]
  },
  {
   "cell_type": "code",
   "execution_count": 26,
   "metadata": {},
   "outputs": [
    {
     "name": "stdout",
     "output_type": "stream",
     "text": [
      "Python is the most demanding programming language.\n"
     ]
    }
   ],
   "source": [
    "filename='file_handling_test.txt'\n",
    "with open(filename) as file_obj:\n",
    "    x=file_obj.read()\n",
    "    print(x)"
   ]
  },
  {
   "cell_type": "code",
   "execution_count": null,
   "metadata": {},
   "outputs": [],
   "source": [
    "2. How to write files in python"
   ]
  },
  {
   "cell_type": "code",
   "execution_count": 45,
   "metadata": {},
   "outputs": [
    {
     "name": "stdout",
     "output_type": "stream",
     "text": [
      "I have edited the file\n"
     ]
    }
   ],
   "source": [
    "filename='file_handling_test.txt'\n",
    "with open(filename,'w') as f:\n",
    "    contents=f.write(\"I have edited the file\")\n",
    "with open(filename) as file_obj:\n",
    "    x=file_obj.read()\n",
    "    print(x)"
   ]
  },
  {
   "cell_type": "code",
   "execution_count": null,
   "metadata": {},
   "outputs": [],
   "source": [
    "3. How to append files in python"
   ]
  },
  {
   "cell_type": "code",
   "execution_count": 46,
   "metadata": {},
   "outputs": [
    {
     "name": "stdout",
     "output_type": "stream",
     "text": [
      "I have edited the file\n",
      "I have added new information to the file\n"
     ]
    }
   ],
   "source": [
    "with open(filename,'a') as f:\n",
    "    x=f.write('\\nI have added new information to the file')\n",
    "with open(filename) as file_obj:\n",
    "    x=file_obj.read()\n",
    "    print(x)"
   ]
  },
  {
   "cell_type": "code",
   "execution_count": null,
   "metadata": {},
   "outputs": [],
   "source": []
  }
 ],
 "metadata": {
  "kernelspec": {
   "display_name": "Python 3",
   "language": "python",
   "name": "python3"
  },
  "language_info": {
   "codemirror_mode": {
    "name": "ipython",
    "version": 3
   },
   "file_extension": ".py",
   "mimetype": "text/x-python",
   "name": "python",
   "nbconvert_exporter": "python",
   "pygments_lexer": "ipython3",
   "version": "3.8.5"
  }
 },
 "nbformat": 4,
 "nbformat_minor": 4
}
