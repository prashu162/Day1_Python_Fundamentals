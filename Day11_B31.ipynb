{
 "cells": [
  {
   "cell_type": "code",
   "execution_count": null,
   "metadata": {},
   "outputs": [],
   "source": [
    "Introduction to arbitrary arguments\n",
    "Requirements: Create a function of pizza which will be accepting toppings as arguments"
   ]
  },
  {
   "cell_type": "code",
   "execution_count": 2,
   "metadata": {},
   "outputs": [],
   "source": [
    "def pizza(toppings):\n",
    "    \"\"\"create a function to take the order of the toppings\"\"\"\n",
    "    print(toppings)"
   ]
  },
  {
   "cell_type": "code",
   "execution_count": 3,
   "metadata": {},
   "outputs": [
    {
     "name": "stdout",
     "output_type": "stream",
     "text": [
      "corn\n"
     ]
    }
   ],
   "source": [
    "pizza('corn')"
   ]
  },
  {
   "cell_type": "code",
   "execution_count": 4,
   "metadata": {},
   "outputs": [
    {
     "ename": "TypeError",
     "evalue": "pizza() takes 1 positional argument but 3 were given",
     "output_type": "error",
     "traceback": [
      "\u001b[1;31m---------------------------------------------------------------------------\u001b[0m",
      "\u001b[1;31mTypeError\u001b[0m                                 Traceback (most recent call last)",
      "\u001b[1;32m<ipython-input-4-d4059d96e330>\u001b[0m in \u001b[0;36m<module>\u001b[1;34m\u001b[0m\n\u001b[1;32m----> 1\u001b[1;33m \u001b[0mpizza\u001b[0m\u001b[1;33m(\u001b[0m\u001b[1;34m'cheese'\u001b[0m\u001b[1;33m,\u001b[0m\u001b[1;34m'onions'\u001b[0m\u001b[1;33m,\u001b[0m\u001b[1;34m'corn'\u001b[0m\u001b[1;33m)\u001b[0m\u001b[1;33m\u001b[0m\u001b[1;33m\u001b[0m\u001b[0m\n\u001b[0m",
      "\u001b[1;31mTypeError\u001b[0m: pizza() takes 1 positional argument but 3 were given"
     ]
    }
   ],
   "source": [
    "pizza('cheese','onions','corn')"
   ]
  },
  {
   "cell_type": "code",
   "execution_count": 5,
   "metadata": {},
   "outputs": [
    {
     "ename": "TypeError",
     "evalue": "pizza() takes 1 positional argument but 2 were given",
     "output_type": "error",
     "traceback": [
      "\u001b[1;31m---------------------------------------------------------------------------\u001b[0m",
      "\u001b[1;31mTypeError\u001b[0m                                 Traceback (most recent call last)",
      "\u001b[1;32m<ipython-input-5-f7dbfc14b7c3>\u001b[0m in \u001b[0;36m<module>\u001b[1;34m\u001b[0m\n\u001b[1;32m----> 1\u001b[1;33m \u001b[0mpizza\u001b[0m\u001b[1;33m(\u001b[0m\u001b[1;34m'chicken'\u001b[0m\u001b[1;33m,\u001b[0m\u001b[1;34m'corn'\u001b[0m\u001b[1;33m)\u001b[0m\u001b[1;33m\u001b[0m\u001b[1;33m\u001b[0m\u001b[0m\n\u001b[0m",
      "\u001b[1;31mTypeError\u001b[0m: pizza() takes 1 positional argument but 2 were given"
     ]
    }
   ],
   "source": [
    "pizza('chicken','corn')"
   ]
  },
  {
   "cell_type": "code",
   "execution_count": 6,
   "metadata": {},
   "outputs": [],
   "source": [
    "def pizza(*toppings):\n",
    "    \"\"\"create a function to take order of the toppings\"\"\"\n",
    "    print(toppings)"
   ]
  },
  {
   "cell_type": "code",
   "execution_count": 14,
   "metadata": {},
   "outputs": [
    {
     "name": "stdout",
     "output_type": "stream",
     "text": [
      "('pepper',)\n",
      "('chicken', 'corn')\n",
      "('chillies', 'corn', 'mushrooms')\n"
     ]
    }
   ],
   "source": [
    "pizza('pepper')\n",
    "pizza('chicken','corn')\n",
    "pizza('chillies','corn','mushrooms')"
   ]
  },
  {
   "cell_type": "code",
   "execution_count": null,
   "metadata": {},
   "outputs": [],
   "source": [
    "Introduction to conditional statements"
   ]
  },
  {
   "cell_type": "code",
   "execution_count": 15,
   "metadata": {},
   "outputs": [],
   "source": [
    "cars=['audi','bmw','subaru','toyota']"
   ]
  },
  {
   "cell_type": "code",
   "execution_count": null,
   "metadata": {},
   "outputs": [],
   "source": [
    "Requirement: I want to print the names of the cars independently, but bmw should be printed in capitals and rest other in title case."
   ]
  },
  {
   "cell_type": "code",
   "execution_count": 18,
   "metadata": {},
   "outputs": [
    {
     "name": "stdout",
     "output_type": "stream",
     "text": [
      "Audi\n",
      "BMW\n",
      "Subaru\n",
      "Toyota\n"
     ]
    }
   ],
   "source": [
    "for x in cars:\n",
    "    if x=='bmw':  #equality condition\n",
    "        print(x.upper())\n",
    "    else:\n",
    "        print(x.title())"
   ]
  },
  {
   "cell_type": "code",
   "execution_count": null,
   "metadata": {},
   "outputs": [],
   "source": [
    "Example: Voting applications, condition is greater than 18 (>18)"
   ]
  },
  {
   "cell_type": "code",
   "execution_count": 19,
   "metadata": {},
   "outputs": [
    {
     "name": "stdout",
     "output_type": "stream",
     "text": [
      "You are eligible to vote\n"
     ]
    }
   ],
   "source": [
    "age=19\n",
    "if age>18:\n",
    "    print('You are eligible to vote')\n",
    "else:\n",
    "    print('You are must be greater than 18 inorder to vote')"
   ]
  },
  {
   "cell_type": "code",
   "execution_count": 20,
   "metadata": {},
   "outputs": [
    {
     "name": "stdout",
     "output_type": "stream",
     "text": [
      "You are must be greater than 18 inorder to vote\n"
     ]
    }
   ],
   "source": [
    "age=17\n",
    "if age>18:\n",
    "    print('You are eligible to vote')\n",
    "else:\n",
    "    print('You are must be greater than 18 inorder to vote')"
   ]
  },
  {
   "cell_type": "code",
   "execution_count": null,
   "metadata": {},
   "outputs": [],
   "source": [
    "Example: Tickets and age group"
   ]
  },
  {
   "cell_type": "code",
   "execution_count": 25,
   "metadata": {},
   "outputs": [
    {
     "name": "stdout",
     "output_type": "stream",
     "text": [
      "Ticket is free\n"
     ]
    }
   ],
   "source": [
    "age=2\n",
    "if age<3:\n",
    "    print('Ticket is free')\n",
    "elif age<=10:\n",
    "    print('Ticket is half price')\n",
    "else:\n",
    "    print('Ticket is full price')"
   ]
  },
  {
   "cell_type": "code",
   "execution_count": 26,
   "metadata": {},
   "outputs": [
    {
     "name": "stdout",
     "output_type": "stream",
     "text": [
      "Ticket is half price\n"
     ]
    }
   ],
   "source": [
    "age=10\n",
    "if age<3:\n",
    "    print('Ticket is free')\n",
    "elif age<=10:\n",
    "    print('Ticket is half price')\n",
    "else:\n",
    "    print('Ticket is full price')"
   ]
  },
  {
   "cell_type": "code",
   "execution_count": 27,
   "metadata": {},
   "outputs": [
    {
     "name": "stdout",
     "output_type": "stream",
     "text": [
      "Ticket is full price\n"
     ]
    }
   ],
   "source": [
    "age=25\n",
    "if age<3:\n",
    "    print('Ticket is free')\n",
    "elif age<=10:\n",
    "    print('Ticket is half price')\n",
    "else:\n",
    "    print('Ticket is full price')"
   ]
  },
  {
   "cell_type": "code",
   "execution_count": null,
   "metadata": {},
   "outputs": [],
   "source": []
  }
 ],
 "metadata": {
  "kernelspec": {
   "display_name": "Python 3",
   "language": "python",
   "name": "python3"
  },
  "language_info": {
   "codemirror_mode": {
    "name": "ipython",
    "version": 3
   },
   "file_extension": ".py",
   "mimetype": "text/x-python",
   "name": "python",
   "nbconvert_exporter": "python",
   "pygments_lexer": "ipython3",
   "version": "3.8.5"
  }
 },
 "nbformat": 4,
 "nbformat_minor": 4
}
