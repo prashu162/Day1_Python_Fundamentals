{
 "cells": [
  {
   "cell_type": "code",
   "execution_count": null,
   "metadata": {},
   "outputs": [],
   "source": [
    "Introduction to python classes\n",
    "Class: A class is a high level blue print of a program\n",
    "methods: A function defined inside a classs is called as a method\n",
    "attributes: A variable written inside a class is called as an attribute\n",
    "self: A self is a temporary placeholder for an object\n",
    "objects: An object is a an access/entry point to the class methods"
   ]
  },
  {
   "cell_type": "code",
   "execution_count": null,
   "metadata": {},
   "outputs": [],
   "source": [
    "Note: Class name should be in title case."
   ]
  },
  {
   "cell_type": "code",
   "execution_count": null,
   "metadata": {},
   "outputs": [],
   "source": [
    "Requirement: Create a greet class and then declare the methods below\n",
    "    createname ---> It needs to accept the input from the user.\n",
    "    displayname ----> It needs to display the name.\n",
    "    greetuser -----> It needs to greet the user."
   ]
  },
  {
   "cell_type": "code",
   "execution_count": 24,
   "metadata": {},
   "outputs": [],
   "source": [
    "class Greet():  #class name #note the name is in title case\n",
    "    \"\"\"creating a greet class\"\"\"  #doc string, to explain why class is created\n",
    "    \n",
    "    def createname(self,user):   #method declaration\n",
    "        self.user=user          #attribute, variable inside a class\n",
    "\n",
    "    def displayname(self):      #method declaration\n",
    "        print(self.user)\n",
    "\n",
    "    def greetuser(self):       #method declaration\n",
    "        print(f\"Welcome, {self.user}\")"
   ]
  },
  {
   "cell_type": "code",
   "execution_count": null,
   "metadata": {},
   "outputs": [],
   "source": [
    "Note: To access the class we have to assign an object to the class"
   ]
  },
  {
   "cell_type": "code",
   "execution_count": 26,
   "metadata": {},
   "outputs": [
    {
     "name": "stdout",
     "output_type": "stream",
     "text": [
      "Sai\n"
     ]
    }
   ],
   "source": [
    "test=Greet()\n",
    "test.createname('Sai')\n",
    "test.displayname()"
   ]
  },
  {
   "cell_type": "code",
   "execution_count": 27,
   "metadata": {},
   "outputs": [
    {
     "name": "stdout",
     "output_type": "stream",
     "text": [
      "Welcome, Sai\n"
     ]
    }
   ],
   "source": [
    "test.greetuser()"
   ]
  },
  {
   "cell_type": "code",
   "execution_count": null,
   "metadata": {},
   "outputs": [],
   "source": [
    "#Example 2"
   ]
  },
  {
   "cell_type": "code",
   "execution_count": 29,
   "metadata": {},
   "outputs": [
    {
     "name": "stdout",
     "output_type": "stream",
     "text": [
      "Welcome, Prashanth\n"
     ]
    }
   ],
   "source": [
    "x=Greet()\n",
    "x.createname('Prashanth')\n",
    "x.greetuser()"
   ]
  },
  {
   "cell_type": "code",
   "execution_count": null,
   "metadata": {},
   "outputs": [],
   "source": [
    "#Req: To get user details"
   ]
  },
  {
   "cell_type": "code",
   "execution_count": 50,
   "metadata": {},
   "outputs": [],
   "source": [
    "class Userinfo():  #class name #note the name is in title case\n",
    "    \"\"\"creating a userinfo class\"\"\"  #doc string, to explain why class is created\n",
    "    \n",
    "    def createdetails(self,user,age,height):   #method declaration\n",
    "        self.user=user          #attribute, variable inside a class\n",
    "        self.age=age\n",
    "        self.height=height\n",
    "        self.fulldetails=f\"{user}, {age}, {height}\"\n",
    "\n",
    "    def displayname(self):      #method declaration\n",
    "        print(self.user)\n",
    "        \n",
    "    def displayage(self):\n",
    "        print(self.age)\n",
    "        \n",
    "    def displayheight(self):\n",
    "        print(self.height)\n",
    "\n",
    "    def displayfulldetails(self):\n",
    "        print(self.fulldetails)"
   ]
  },
  {
   "cell_type": "code",
   "execution_count": 51,
   "metadata": {},
   "outputs": [],
   "source": [
    "user_details=Userinfo()\n",
    "user_details.createdetails('Sai','28','160cm')"
   ]
  },
  {
   "cell_type": "code",
   "execution_count": 52,
   "metadata": {},
   "outputs": [
    {
     "name": "stdout",
     "output_type": "stream",
     "text": [
      "Sai\n",
      "28\n",
      "160cm\n"
     ]
    }
   ],
   "source": [
    "user_details.displayname()\n",
    "user_details.displayage()\n",
    "user_details.displayheight()"
   ]
  },
  {
   "cell_type": "code",
   "execution_count": 53,
   "metadata": {},
   "outputs": [
    {
     "name": "stdout",
     "output_type": "stream",
     "text": [
      "Sai, 28, 160cm\n"
     ]
    }
   ],
   "source": [
    "user_details.displayfulldetails()"
   ]
  },
  {
   "cell_type": "code",
   "execution_count": null,
   "metadata": {},
   "outputs": [],
   "source": []
  }
 ],
 "metadata": {
  "kernelspec": {
   "display_name": "Python 3",
   "language": "python",
   "name": "python3"
  },
  "language_info": {
   "codemirror_mode": {
    "name": "ipython",
    "version": 3
   },
   "file_extension": ".py",
   "mimetype": "text/x-python",
   "name": "python",
   "nbconvert_exporter": "python",
   "pygments_lexer": "ipython3",
   "version": "3.8.5"
  }
 },
 "nbformat": 4,
 "nbformat_minor": 4
}
